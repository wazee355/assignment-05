{
 "cells": [
  {
   "cell_type": "markdown",
   "id": "ea9a2fcb",
   "metadata": {},
   "source": [
    "1. What does an empty dictionarys code look like?\n",
    "\n",
    "Answer- The empty dictionary looks like this {}."
   ]
  },
  {
   "cell_type": "markdown",
   "id": "fdcaeee9",
   "metadata": {},
   "source": [
    "2. What is the value of a dictionary value with the key 'foo' and the value 42?\n",
    "\n",
    "Answer- {'foo':42}"
   ]
  },
  {
   "cell_type": "markdown",
   "id": "19fb35e9",
   "metadata": {},
   "source": [
    "3. What is the most significant distinction between a dictionary and a list?\n",
    "\n",
    "Answer-The data stored in dictionary are in unordered way while in list it is stored in ordered way. "
   ]
  },
  {
   "cell_type": "markdown",
   "id": "5a5f57f9",
   "metadata": {},
   "source": [
    "4. What happens if you try to access spam['foo'] if spam is {'bar': 100}?\n",
    "\n",
    "Answer- I will get a key error."
   ]
  },
  {
   "cell_type": "markdown",
   "id": "6340b290",
   "metadata": {},
   "source": [
    "5. If a dictionary is stored in spam, what is the difference between the expressions 'cat' in spam and 'cat' in spam.keys()?\n",
    "\n",
    "Answer- There is no difference. The in operator check whether a value exist as a key in the dictionary. "
   ]
  },
  {
   "cell_type": "markdown",
   "id": "cdfeb7ed",
   "metadata": {},
   "source": [
    "6.If a dictionary is stored in spam, what is the difference between the expressions 'cat' in spam and 'cat' in spam.keys()?\n",
    "\n",
    "Answer- There is no difference. The in operator check whether a value exist as a key in the dictionary."
   ]
  },
  {
   "cell_type": "markdown",
   "id": "d76912dc",
   "metadata": {},
   "source": [
    "7. What is a shortcut for the following code?\n",
    "if color not in spam:\n",
    "spam[color] = black\n",
    "\n",
    "Answer- spam.setdefault('color','black')"
   ]
  },
  {
   "cell_type": "markdown",
   "id": "7cd576d3",
   "metadata": {},
   "source": [
    "8. How do you \"pretty print\" dictionary values using which module and function?\n",
    "\n",
    "Answer- pprint.pprint()"
   ]
  }
 ],
 "metadata": {
  "kernelspec": {
   "display_name": "Python 3 (ipykernel)",
   "language": "python",
   "name": "python3"
  },
  "language_info": {
   "codemirror_mode": {
    "name": "ipython",
    "version": 3
   },
   "file_extension": ".py",
   "mimetype": "text/x-python",
   "name": "python",
   "nbconvert_exporter": "python",
   "pygments_lexer": "ipython3",
   "version": "3.9.7"
  }
 },
 "nbformat": 4,
 "nbformat_minor": 5
}
